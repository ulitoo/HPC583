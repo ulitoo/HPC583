{
 "cells": [
  {
   "cell_type": "code",
   "execution_count": 5,
   "id": "6db41162-826b-4e4a-a213-131f5e0adcc4",
   "metadata": {},
   "outputs": [
    {
     "ename": "ModuleNotFoundError",
     "evalue": "No module named 'visual'",
     "output_type": "error",
     "traceback": [
      "\u001b[1;31m---------------------------------------------------------------------------\u001b[0m",
      "\u001b[1;31mModuleNotFoundError\u001b[0m                       Traceback (most recent call last)",
      "Cell \u001b[1;32mIn[5], line 1\u001b[0m\n\u001b[1;32m----> 1\u001b[0m \u001b[38;5;28;01mfrom\u001b[39;00m \u001b[38;5;21;01mvisual\u001b[39;00m \u001b[38;5;28;01mimport\u001b[39;00m sphere,box\n\u001b[0;32m      2\u001b[0m sphere(radius\u001b[38;5;241m=\u001b[39m\u001b[38;5;241m0.5\u001b[39m,pos\u001b[38;5;241m=\u001b[39m[\u001b[38;5;241m1.0\u001b[39m,\u001b[38;5;241m-\u001b[39m\u001b[38;5;241m0.2\u001b[39m,\u001b[38;5;241m4.0\u001b[39m])\n",
      "\u001b[1;31mModuleNotFoundError\u001b[0m: No module named 'visual'"
     ]
    }
   ],
   "source": [
    "from visual import sphere,box\n",
    "sphere(radius=0.5,pos=[1.0,-0.2,4.0])\n"
   ]
  },
  {
   "cell_type": "code",
   "execution_count": null,
   "id": "ae2489d9-818f-4cd1-bf05-50764326cfa3",
   "metadata": {},
   "outputs": [],
   "source": []
  }
 ],
 "metadata": {
  "kernelspec": {
   "display_name": "Python 3 (ipykernel)",
   "language": "python",
   "name": "python3"
  },
  "language_info": {
   "codemirror_mode": {
    "name": "ipython",
    "version": 3
   },
   "file_extension": ".py",
   "mimetype": "text/x-python",
   "name": "python",
   "nbconvert_exporter": "python",
   "pygments_lexer": "ipython3",
   "version": "3.10.11"
  }
 },
 "nbformat": 4,
 "nbformat_minor": 5
}
